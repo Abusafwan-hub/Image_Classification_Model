{
 "cells": [
  {
   "cell_type": "code",
   "execution_count": 1,
   "id": "342e3863-20c9-452a-a39b-57fcc8d78aad",
   "metadata": {},
   "outputs": [
    {
     "name": "stdout",
     "output_type": "stream",
     "text": [
      "Downloading data from https://storage.googleapis.com/tensorflow/tf-keras-datasets/mnist.npz\n",
      "11490434/11490434 [==============================] - 3s 0us/step\n",
      "Epoch 1/5\n",
      "1875/1875 [==============================] - 39s 20ms/step - loss: 0.1443 - accuracy: 0.9555 - val_loss: 0.0427 - val_accuracy: 0.9867\n",
      "Epoch 2/5\n",
      "1875/1875 [==============================] - 37s 20ms/step - loss: 0.0455 - accuracy: 0.9862 - val_loss: 0.0403 - val_accuracy: 0.9861\n",
      "Epoch 3/5\n",
      "1875/1875 [==============================] - 40s 21ms/step - loss: 0.0326 - accuracy: 0.9897 - val_loss: 0.0277 - val_accuracy: 0.9914\n",
      "Epoch 4/5\n",
      "1875/1875 [==============================] - 48s 25ms/step - loss: 0.0241 - accuracy: 0.9928 - val_loss: 0.0352 - val_accuracy: 0.9899\n",
      "Epoch 5/5\n",
      "1875/1875 [==============================] - 43s 23ms/step - loss: 0.0183 - accuracy: 0.9944 - val_loss: 0.0304 - val_accuracy: 0.9913\n",
      "313/313 [==============================] - 3s 11ms/step - loss: 0.0304 - accuracy: 0.9913\n",
      "\n",
      "✅ Test Accuracy: 0.9913\n",
      "1/1 [==============================] - 0s 148ms/step\n"
     ]
    },
    {
     "data": {
      "image/png": "[encoded data removed]",
      "text/plain": [
       "<Figure size 640x480 with 1 Axes>"
      ]
     },
     "metadata": {},
     "output_type": "display_data"
    }
   ],
   "source": [
    "# ✅ Import libraries\n",
    "import tensorflow as tf   #library used to build and train neural networks\n",
    "from tensorflow.keras import layers, models    #Used to create layers (like convolutional, dense) and build models\n",
    "import matplotlib.pyplot as plt     #Used for showing images/graphs\n",
    "import numpy as np             #Used for numerical operations like reshaping arrays\n",
    "\n",
    "# ✅ Load and preprocess the MNIST dataset\n",
    "(x_train, y_train), (x_test, y_test) = tf.keras.datasets.mnist.load_data()         #Loads the MNIST dataset (70,000 handwritten digits),It automatically splits the data into training and testing sets\n",
    "\n",
    "# Normalize pixel values to [0, 1]\n",
    "x_train = x_train / 255.0                    #Pixel values range from 0 to 255. Dividing by 255 normalizes them to 0–1\n",
    "x_test = x_test / 255.0                      #This helps the model train better and faster\n",
    "\n",
    "# Reshape images to (28, 28, 1) for CNN input,Each MNIST image is 28 pixels wide and 28 pixels tall — that's (28, 28).But to feed the image into a Convolutional Neural Network (CNN), we need to tell the model how many color channels the image has.\n",
    "x_train = x_train.reshape(-1, 28, 28, 1)              #Adds a channel dimension (for grayscale images) so that each image is shaped as (28, 28, 1)\n",
    "x_test = x_test.reshape(-1, 28, 28, 1)                 #Grayscale images (like MNIST digits) have 1 channel → shape: (28, 28, 1),Color images have 3 channels (Red, Green, Blue) → shape: (28, 28, 3)\n",
    "\n",
    "# ✅ Build the CNN model\n",
    "model = models.Sequential([\n",
    "    layers.Conv2D(32, kernel_size=(3, 3), activation='relu', input_shape=(28, 28, 1)), #Finds patterns like lines, curves, etc., in the image\n",
    "    layers.MaxPooling2D(pool_size=(2, 2)),          #Reduces the size of the image (keeps important info)\n",
    "\n",
    "    layers.Conv2D(64, (3, 3), activation='relu'),       \n",
    "    layers.MaxPooling2D(pool_size=(2, 2)),            \n",
    "\n",
    "    layers.Flatten(),                                      #Converts 2D image into a 1D vector for the Dense layers\n",
    "    layers.Dense(64, activation='relu'),                        #Fully connected layer with 64 neurons and ReLU activation\n",
    "    layers.Dense(10, activation='softmax')  # 10 output classes (digits 0-9), Final layer with 10 outputs for digits 0–9. Uses softmax to give probabilities\n",
    "])\n",
    "\n",
    "# ✅ Compile the model\n",
    "model.compile(optimizer='adam',           # Optimization algorithm (makes training efficient)\n",
    "              loss='sparse_categorical_crossentropy',                 #Suitable loss for classification of integer labels\n",
    "              metrics=['accuracy'])                             #Metric to track during training\n",
    "  \n",
    "# ✅ Train the model\n",
    "history = model.fit(x_train, y_train, epochs=5, validation_data=(x_test, y_test))          #Trains the model using the training data, Runs for 5 full passes over the dataset (epochs),Also checks accuracy on test data after each epoch\n",
    "\n",
    "# ✅ Evaluate the model\n",
    "test_loss, test_acc = model.evaluate(x_test, y_test)              #Checks how good the model is on unseen test images\n",
    "print(f\"\\n✅ Test Accuracy: {test_acc:.4f}\")\n",
    "\n",
    "# ✅ Predict the label of the first test image\n",
    "prediction = model.predict(x_test[0:1])                      #Predicts the class (digit) for the first image in the test set\n",
    "predicted_label = np.argmax(prediction)                      #np.argmax finds which digit has the highest predicted probability\n",
    "\n",
    "# ✅ Show prediction with the image\n",
    "plt.imshow(x_test[0].reshape(28, 28), cmap='gray')\n",
    "plt.title(f\"Predicted Label: {predicted_label}\")\n",
    "plt.axis('off')\n",
    "plt.show()\n"
   ]
  },
  {
   "cell_type": "code",
   "execution_count": null,
   "id": "11890527-fc6f-4750-a6f4-7a4dcbecb895",
   "metadata": {},
   "outputs": [],
   "source": []
  }
 ],
 "metadata": {
  "kernelspec": {
   "display_name": "Python 3 (ipykernel)",
   "language": "python",
   "name": "python3"
  },
  "language_info": {
   "codemirror_mode": {
    "name": "ipython",
    "version": 3
   },
   "file_extension": ".py",
   "mimetype": "text/x-python",
   "name": "python",
   "nbconvert_exporter": "python",
   "pygments_lexer": "ipython3",
   "version": "3.10.4"
  }
 },
 "nbformat": 4,
 "nbformat_minor": 5
}
